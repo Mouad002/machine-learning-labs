{
 "cells": [
  {
   "cell_type": "code",
   "execution_count": 1,
   "id": "3c85e3dc-b650-4923-8fd7-b94cfda1f958",
   "metadata": {},
   "outputs": [],
   "source": [
    "import numpy as np\n",
    "import pandas as pd\n",
    "from sklearn.datasets import load_wine\n",
    "from sklearn.model_selection import train_test_split\n",
    "from sklearn.svm import SVC\n",
    "from sklearn.metrics import classification_report, accuracy_score\n",
    "import matplotlib.pyplot as plt\n",
    "import matplotlib.pyplot as pltv\n",
    "from mlxtend.plotting import plot_decision_regions"
   ]
  },
  {
   "cell_type": "code",
   "execution_count": 2,
   "id": "6219bb04-0b9a-49ae-a548-158c63657066",
   "metadata": {},
   "outputs": [
    {
     "ename": "NameError",
     "evalue": "name 'load_wine' is not defined",
     "output_type": "error",
     "traceback": [
      "\u001b[31m---------------------------------------------------------------------------\u001b[39m",
      "\u001b[31mNameError\u001b[39m                                 Traceback (most recent call last)",
      "\u001b[36mCell\u001b[39m\u001b[36m \u001b[39m\u001b[32mIn[2]\u001b[39m\u001b[32m, line 1\u001b[39m\n\u001b[32m----> \u001b[39m\u001b[32m1\u001b[39m wine = \u001b[43mload_wine\u001b[49m()\n\u001b[32m      3\u001b[39m \u001b[38;5;66;03m# Convert to DataFrame\u001b[39;00m\n\u001b[32m      4\u001b[39m X = pd.DataFrame(wine.data, columns=wine.feature_names)\n",
      "\u001b[31mNameError\u001b[39m: name 'load_wine' is not defined"
     ]
    }
   ],
   "source": [
    "\n",
    "\n",
    "\n",
    "wine = load_wine()\n",
    "\n",
    "# Convert to DataFrame\n",
    "X = pd.DataFrame(wine.data, columns=wine.feature_names)\n",
    "y = pd.Series(wine.target) \n",
    "X.head()"
   ]
  },
  {
   "cell_type": "code",
   "execution_count": null,
   "id": "519c91d6-b11e-47ef-8f2d-868820f386a1",
   "metadata": {},
   "outputs": [],
   "source": [
    "X = X.to_numpy()\n",
    "y = y.to_numpy()"
   ]
  },
  {
   "cell_type": "code",
   "execution_count": null,
   "id": "06889257-1e8f-4362-8d7f-4093d890fe40",
   "metadata": {},
   "outputs": [],
   "source": [
    "# jupyter labextension disable @anaconda/assistant"
   ]
  },
  {
   "cell_type": "code",
   "execution_count": null,
   "id": "f2e06814-285c-434a-a1bf-25d7d9c08376",
   "metadata": {},
   "outputs": [],
   "source": []
  },
  {
   "cell_type": "code",
   "execution_count": null,
   "id": "bb344b4c-38c8-4421-a1fc-cb754a80d967",
   "metadata": {},
   "outputs": [],
   "source": []
  },
  {
   "cell_type": "code",
   "execution_count": null,
   "id": "c5aa9666-f552-4364-a3a5-69ed49f76c74",
   "metadata": {},
   "outputs": [],
   "source": []
  }
 ],
 "metadata": {
  "kernelspec": {
   "display_name": "Python 3.11 (TensorFlow)",
   "language": "python",
   "name": "tensorflow-env"
  },
  "language_info": {
   "codemirror_mode": {
    "name": "ipython",
    "version": 3
   },
   "file_extension": ".py",
   "mimetype": "text/x-python",
   "name": "python",
   "nbconvert_exporter": "python",
   "pygments_lexer": "ipython3",
   "version": "3.11.6"
  }
 },
 "nbformat": 4,
 "nbformat_minor": 5
}
